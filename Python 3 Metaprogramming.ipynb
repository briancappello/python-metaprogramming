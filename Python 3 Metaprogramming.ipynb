{
 "cells": [
  {
   "cell_type": "code",
   "execution_count": 1,
   "metadata": {
    "slideshow": {
     "slide_type": "skip"
    }
   },
   "outputs": [],
   "source": [
    "# skipped\n",
    "\n",
    "import functools\n",
    "import re\n",
    "import types\n",
    "\n",
    "from datetime import datetime\n",
    "from typing import *\n",
    "\n",
    "\n",
    "_missing = type('_missing', (), {'__bool__': lambda self: False})()\n",
    "\n",
    "\n",
    "def de_camel(s, separator=\"_\", _lowercase=True):\n",
    "    s = re.sub(r\"([a-z0-9])([A-Z])\", \"\\\\1%s\\\\2\" % separator, s)\n",
    "    s = re.sub(r\"([A-Z])([A-Z][a-z])\", \"\\\\1%s\\\\2\" % separator, s)\n",
    "    return s.lower() if _lowercase else s\n",
    "\n",
    "\n",
    "def snake_case(string):\n",
    "    if not string:\n",
    "        return string\n",
    "    string = string.replace('-', '_').replace(' ', '_')\n",
    "    return de_camel(string)"
   ]
  },
  {
   "cell_type": "markdown",
   "metadata": {
    "slideshow": {
     "slide_type": "slide"
    }
   },
   "source": [
    "# Python Decorators\n",
    "\n",
    "## whoami\n",
    "\n",
    "### Brian Cappello\n",
    "\n",
    "#### https://github.com/briancappello\n",
    "\n",
    "---\n",
    "\n",
    "- electrical engineer turned software engineer\n",
    "- huge Linux and open source software fan\n",
    "- Python user for about 10 years, mostly self-taught"
   ]
  },
  {
   "cell_type": "markdown",
   "metadata": {
    "slideshow": {
     "slide_type": "slide"
    }
   },
   "source": [
    "# Decorators\n",
    "\n",
    "A decorator is a callable that wraps another callable. Typically they run immediately at *import time*.\n",
    "\n",
    "Decorators can:\n",
    "\n",
    "- preempt the wrapped callable (for example by modifying the arguments passed to it)\n",
    "- post-process the results before returning them\n",
    "- ignore the passed callable and do something else entirely\n"
   ]
  },
  {
   "cell_type": "code",
   "execution_count": 2,
   "metadata": {
    "slideshow": {
     "slide_type": "subslide"
    }
   },
   "outputs": [
    {
     "name": "stdout",
     "output_type": "stream",
     "text": [
      "[runs immediately] fn add defined: the add docstring\n"
     ]
    }
   ],
   "source": [
    "# a most basic decorator\n",
    "\n",
    "def just_looking(fn):\n",
    "    print(f'[runs immediately] fn {fn.__name__} defined: {fn.__doc__}')\n",
    "    return fn\n",
    "\n",
    "@just_looking\n",
    "def add(a, b):\n",
    "    \"\"\"the add docstring\"\"\"\n",
    "    return a + b\n",
    "\n",
    "# add(1, 2)"
   ]
  },
  {
   "cell_type": "code",
   "execution_count": 3,
   "metadata": {
    "slideshow": {
     "slide_type": "subslide"
    }
   },
   "outputs": [
    {
     "name": "stdout",
     "output_type": "stream",
     "text": [
      "FooBar groups: defaultdict(<class 'list'>, {'group-one': [<function FooBar.one at 0x7f8f6817e170>], 'group-two': [<function FooBar.two at 0x7f8f6817e200>]})\n"
     ]
    }
   ],
   "source": [
    "# using decorators to annotate functions/classes with metadata\n",
    "\n",
    "from collections import defaultdict\n",
    "from types import FunctionType\n",
    "\n",
    "def group_one(fn):\n",
    "    setattr(fn, '__group__', 'group-one')\n",
    "    return fn\n",
    "\n",
    "def group_two(fn):\n",
    "    setattr(fn, '__group__', 'group-two')\n",
    "    return fn\n",
    "\n",
    "def grouped(cls):\n",
    "    groups = defaultdict(list)\n",
    "    for attr_name, value in vars(cls).items():\n",
    "        if isinstance(value, FunctionType) and hasattr(value, '__group__'):\n",
    "            groups[value.__group__].append(value)\n",
    "    setattr(cls, '__groups__', groups)\n",
    "    print(f'{cls.__name__} groups: {cls.__groups__}')\n",
    "\n",
    "@grouped\n",
    "class FooBar:\n",
    "    @group_one\n",
    "    def one(): pass\n",
    "\n",
    "    @group_two\n",
    "    def two(): pass"
   ]
  },
  {
   "cell_type": "code",
   "execution_count": 4,
   "metadata": {
    "slideshow": {
     "slide_type": "subslide"
    }
   },
   "outputs": [
    {
     "name": "stdout",
     "output_type": "stream",
     "text": [
      "[runs immediately] fn wrapper defined: a wrapper that prints what the wrapped fn was called with\n",
      "[runs immediately] fn sub defined: the sub docstring\n"
     ]
    }
   ],
   "source": [
    "# functools.wraps\n",
    "\n",
    "def takes_no_args(fn):\n",
    "    #@functools.wraps(fn)  # so `wrapper` keeps the same __name__ and __doc__ as the decorated `fn`\n",
    "    def wrapper(*fn_args, **fn_kwargs):\n",
    "        \"\"\"a wrapper that prints what the wrapped fn was called with\"\"\"\n",
    "        print(f'[runs when decorated fn called] {fn} args: {fn_args}, kwargs: {fn_kwargs}')\n",
    "        return fn(*fn_args, **fn_kwargs)\n",
    "    return wrapper\n",
    "\n",
    "@just_looking  # second decorator to wrap `add` (technically it wraps the return value of `takes_no_args`)\n",
    "@takes_no_args  # first decorator to wrap `add`\n",
    "def add(a, b):\n",
    "    \"\"\"the add docstring\"\"\"\n",
    "    return a + b\n",
    "\n",
    "@takes_no_args\n",
    "@just_looking\n",
    "def sub(a, b):\n",
    "    \"\"\"the sub docstring\"\"\"\n",
    "    return a - b\n",
    "\n",
    "# add(1, 2)\n",
    "# sub(4, 3)"
   ]
  },
  {
   "cell_type": "code",
   "execution_count": 5,
   "metadata": {
    "slideshow": {
     "slide_type": "subslide"
    }
   },
   "outputs": [
    {
     "name": "stdout",
     "output_type": "stream",
     "text": [
      "[runs immediately] decorator_args: (<function add at 0x7f8f6817e440>,)\n",
      "[runs immediately] decorator_args: (1, 2)\n"
     ]
    }
   ],
   "source": [
    "def takes_only_args(*decorator_args):\n",
    "    print(f'[runs immediately] decorator_args: {decorator_args}')\n",
    "    def wrapper(fn):\n",
    "        @functools.wraps(fn)\n",
    "        def decorated(*fn_args, **fn_kwargs):\n",
    "            print(f'[runs when decorated fn called] {fn} args: {fn_args}, kwargs: {fn_kwargs}')\n",
    "            return fn(*fn_args, **fn_kwargs)\n",
    "        return decorated\n",
    "    \n",
    "    # takes_only_args got used without parenthesis\n",
    "    if len(decorator_args) == 1 and callable(decorator_args[0]):\n",
    "        return wrapper(decorator_args[0])\n",
    "\n",
    "    # takes_only_args got used with parenthesis and/or passed args\n",
    "    return wrapper\n",
    "\n",
    "@takes_only_args\n",
    "def add(a, b):\n",
    "    return a + b\n",
    "\n",
    "@takes_only_args(1, 2)\n",
    "def sub(a, b):\n",
    "    return a - b\n",
    "\n",
    "# add(1, 2)\n",
    "# sub(3, 4)"
   ]
  },
  {
   "cell_type": "code",
   "execution_count": 6,
   "metadata": {
    "slideshow": {
     "slide_type": "subslide"
    }
   },
   "outputs": [
    {
     "name": "stdout",
     "output_type": "stream",
     "text": [
      "[runs immediately] fn: <function add at 0x7f8f6817e560>, decorator_kwargs: {}\n",
      "[runs immediately] fn: None, decorator_kwargs: {'foo': 'baz'}\n"
     ]
    }
   ],
   "source": [
    "def takes_only_kwargs(fn=None, **decorator_kwargs):\n",
    "    print(f'[runs immediately] fn: {fn}, decorator_kwargs: {decorator_kwargs}')\n",
    "    def wrapper(fn):\n",
    "        @functools.wraps(fn)\n",
    "        def decorated(*fn_args, **fn_kwargs):\n",
    "            print(f'[runs when decorated fn called] {fn} args: {fn_args}, kwargs: {fn_kwargs}')\n",
    "            return fn(*fn_args, **fn_kwargs)\n",
    "        return decorated\n",
    "    \n",
    "    # takes_only_kwargs got used without parenthesis\n",
    "    if fn is not None:\n",
    "        return wrapper(fn)\n",
    "    \n",
    "    # takes_only_kwargs got used with parenthesis and/or passed kwargs\n",
    "    return wrapper\n",
    "\n",
    "@takes_only_kwargs\n",
    "def add(a, b):\n",
    "    return a + b\n",
    "\n",
    "@takes_only_kwargs(foo='baz')\n",
    "def sub(a, b):\n",
    "    return a - b\n",
    "\n",
    "# add(1, 2)\n",
    "# sub(3, 4)"
   ]
  },
  {
   "cell_type": "code",
   "execution_count": 7,
   "metadata": {
    "slideshow": {
     "slide_type": "subslide"
    }
   },
   "outputs": [
    {
     "name": "stdout",
     "output_type": "stream",
     "text": [
      "[runs immediately] decorator_args: (1, 2), decorator_kwargs: {'foo': 'baz'}\n"
     ]
    }
   ],
   "source": [
    "def takes_args_and_kwargs(*decorator_args, **decorator_kwargs):\n",
    "    print(f'[runs immediately] decorator_args: {decorator_args}, decorator_kwargs: {decorator_kwargs}')\n",
    "    def wrapper(fn):\n",
    "        @functools.wraps(fn)\n",
    "        def decorated(*fn_args, **fn_kwargs):\n",
    "            print(f'[runs when decorated fn called] args: {fn_args}, kwargs: {fn_kwargs}')\n",
    "            return fn(*fn_args, **fn_kwargs)\n",
    "        return decorated\n",
    "        \n",
    "    # takes_args_and_kwargs used without parenthesis\n",
    "    if len(decorator_args) == 1 and callable(decorator_args[0]):\n",
    "        return wrapper(decorator_args[0])\n",
    "        \n",
    "    # takes_args_and_kwargs used with parenthesis and/or decorator args/kwargs\n",
    "    return wrapper\n",
    "\n",
    "@takes_args_and_kwargs(1, 2, foo='baz')\n",
    "def add(a, b):\n",
    "    return a + b\n",
    "\n",
    "# add(1, 2)"
   ]
  },
  {
   "cell_type": "code",
   "execution_count": 32,
   "metadata": {
    "slideshow": {
     "slide_type": "slide"
    }
   },
   "outputs": [],
   "source": [
    "# example: handling optional dependencies\n",
    "\n",
    "import click\n",
    "\n",
    "try:\n",
    "    from some_optional_library import some_dependency\n",
    "except ImportError:\n",
    "    class click:\n",
    "        @staticmethod\n",
    "        def command(*args, **kwargs):\n",
    "            return lambda fn: None\n",
    "\n",
    "@click.command('some-command')\n",
    "def some_command():\n",
    "    click.echo(some_dependency())\n",
    "\n",
    "# print(type(some_command))"
   ]
  },
  {
   "cell_type": "code",
   "execution_count": 34,
   "metadata": {},
   "outputs": [],
   "source": [
    "# example: url_param_converter for Flask\n",
    "\n",
    "def url_param_converter(*decorator_args, **url_param_name_to_converters):\n",
    "    def wrapped(fn):\n",
    "        @wraps(fn)\n",
    "        def decorated(*view_args, **view_kwargs):\n",
    "            view_kwargs = _convert_query_params(view_kwargs, url_param_name_to_converters)\n",
    "            return fn(*view_args, **view_kwargs)\n",
    "        return decorated\n",
    "\n",
    "    if len(decorator_args) == 1 and callable(decorator_args[0]):\n",
    "        return wrapped(decorator_args[0])\n",
    "    return wrapped\n",
    "\n",
    "def _convert_query_params(view_kwargs, url_param_name_to_converters):\n",
    "    for name, converter in url_param_name_to_converters.items():\n",
    "        if name not in request.args:\n",
    "            continue\n",
    "        value = request.args.getlist(name)\n",
    "        if len(value) == 1:\n",
    "            value = value[0]\n",
    "            \n",
    "        if isinstance(converter, (dict, Enum)):\n",
    "            value = converter[value]\n",
    "        elif callable(converter):\n",
    "            value = converter(value)\n",
    "        view_kwargs[name] = value\n",
    "    return view_kwargs"
   ]
  },
  {
   "cell_type": "code",
   "execution_count": 8,
   "metadata": {
    "slideshow": {
     "slide_type": "skip"
    }
   },
   "outputs": [
    {
     "name": "stdout",
     "output_type": "stream",
     "text": [
      "[runs immediately] decorator_args: (<function add at 0x7f8f68183560>,), decorator_kwargs: {}\n",
      "[runs immediately] decorator_args: (), decorator_kwargs: {'foo': 'cls'}\n",
      "[runs immediately] decorator_args: (<function Math.__init__ at 0x7f8f68183a70>,), decorator_kwargs: {}\n",
      "already decorated, returning early\n",
      "[runs when decorated fn called] args: (1, 2), kwargs: {}\n",
      "[runs when decorated fn called] args: (<__main__.Math object at 0x7f8f681873d0>, 1, 2), kwargs: {}\n"
     ]
    },
    {
     "data": {
      "text/plain": [
       "<__main__.Math at 0x7f8f681873d0>"
      ]
     },
     "execution_count": 8,
     "metadata": {},
     "output_type": "execute_result"
    }
   ],
   "source": [
    "def cls_or_fn_decorator(*decorator_args, **decorator_kwargs):\n",
    "    print(f'[runs immediately] decorator_args: {decorator_args}, decorator_kwargs: {decorator_kwargs}')\n",
    "    def wrapper(fn):\n",
    "        # if used on a class, wrap the constructor, otherwise wrap the passed function\n",
    "        cls = None\n",
    "        if isinstance(fn, type):\n",
    "            cls = fn\n",
    "            fn = cls.__init__\n",
    "        \n",
    "        if cls and hasattr(fn, '__wrapped__'):\n",
    "            print('already decorated, returning early')\n",
    "            return cls\n",
    "        \n",
    "        @functools.wraps(fn)\n",
    "        def decorator(*fn_args, **fn_kwargs):\n",
    "            print(f'[runs when decorated fn called] args: {fn_args}, kwargs: {fn_kwargs}')\n",
    "            return fn(*fn_args, **fn_kwargs)\n",
    "        \n",
    "        if cls:\n",
    "            cls.__init__ = decorator\n",
    "            return cls\n",
    "        return decorator\n",
    "    \n",
    "    # cls_or_fn_decorator used without parenthesis\n",
    "    if len(decorator_args) == 1 and callable(decorator_args[0]):\n",
    "        return wrapper(decorator_args[0])\n",
    "    \n",
    "    # cls_or_fn_decorator used args and/or kwargs\n",
    "    return wrapper\n",
    "\n",
    "@cls_or_fn_decorator\n",
    "def add(a, b): return a + b\n",
    "\n",
    "@cls_or_fn_decorator(foo='cls')\n",
    "class Math:\n",
    "    @cls_or_fn_decorator\n",
    "    def __init__(self, a, b): self.result = a + b\n",
    "        \n",
    "add(1, 2)\n",
    "Math(1, 2)"
   ]
  },
  {
   "cell_type": "code",
   "execution_count": 9,
   "metadata": {
    "pycharm": {
     "name": "#%%\n"
    },
    "slideshow": {
     "slide_type": "slide"
    }
   },
   "outputs": [
    {
     "name": "stdout",
     "output_type": "stream",
     "text": [
      "Parameter Name         Parameter Kind                 Default Value                Type Hint (Annotation)      \n",
      "char                   POSITIONAL_OR_KEYWORD          <class 'inspect._empty'>     <class 'str'>               \n",
      "count                  POSITIONAL_OR_KEYWORD          1                            typing.Union[int, float]    \n",
      "multiplier             KEYWORD_ONLY                   1.0                          typing.Union[int, float]    \n"
     ]
    }
   ],
   "source": [
    "# Inspecting function signatures and programmatically applying arguments to functions (Python 3.3+)\n",
    "import inspect\n",
    "\n",
    "def fn(char: str, count: Union[int, float] = 1, *, multiplier: Union[int, float] = 1.0):\n",
    "    return char * int(count * multiplier)\n",
    "\n",
    "sig = inspect.signature(fn)  # get the function signature\n",
    "\n",
    "# and inspect the parameters of the function:\n",
    "print(f\"{'Parameter Name':22} {'Parameter Kind':30s} {'Default Value':28s} {'Type Hint (Annotation)':28s}\")\n",
    "for p in sig.parameters.values():\n",
    "    print(f'{p.name:22} {p.kind!s:30} {p.default!r:28} {p.annotation!r:28}')\n",
    "\n",
    "# to apply function arguments to the signature, use `sig.bind()` (but only if you have all required args)\n",
    "# bound_args = sig.bind('*', count=10, multiplier=9.8)  # raises `TypeError` if required args are missing\n",
    "# bind_rv = fn(*bound_args.args, **bound_args.kwargs)\n",
    "# print(f'>>> bind result: {bind_rv}')\n",
    "\n",
    "# using `sig.bind_partial()` followed by `sig.apply_defaults()` allows to check for missing args:\n",
    "# bound_args = sig.bind_partial('-', count=10)\n",
    "# bound_args.apply_defaults()\n",
    "# missing_args = set(sig.parameters) - set(bound_args.arguments)\n",
    "# partial_rv = fn(*bound_args.args, **bound_args.kwargs)  # this will still raise `TypeError` if args are missing\n",
    "# print(f'>>> bind_partial result: {partial_rv}')"
   ]
  },
  {
   "cell_type": "code",
   "execution_count": 10,
   "metadata": {
    "slideshow": {
     "slide_type": "subslide"
    }
   },
   "outputs": [
    {
     "name": "stdout",
     "output_type": "stream",
     "text": [
      "add(a=1, b=2) [RESULT: 3] [DURATION: 0:00:00.000019]\n"
     ]
    },
    {
     "data": {
      "text/plain": [
       "3"
      ]
     },
     "execution_count": 10,
     "metadata": {},
     "output_type": "execute_result"
    }
   ],
   "source": [
    "# An improved debugging with print decorator\n",
    "\n",
    "def debug(fn):\n",
    "    @functools.wraps(fn)\n",
    "    def decorator(*args, **kwargs):\n",
    "        return _run_debug(fn, args, kwargs)\n",
    "    return decorator\n",
    "\n",
    "def _run_debug(fn, args, kwargs):\n",
    "    sig, bound_args, result, duration = _inspect_and_run(fn, args, kwargs)\n",
    "    ba_str = ', '.join(f'{k}={v!r}' for k, v in bound_args.arguments.items())\n",
    "    print(f'{fn.__name__}({ba_str}) [RESULT: {result!r}] [DURATION: {duration!s}]')\n",
    "    return result\n",
    "\n",
    "def _inspect_and_run(fn, args, kwargs):\n",
    "    sig = inspect.signature(fn)\n",
    "    bound_args = sig.bind_partial(*args, **kwargs)\n",
    "    bound_args.apply_defaults()\n",
    "    start = datetime.now()\n",
    "    result = fn(*bound_args.args, **bound_args.kwargs)\n",
    "    end = datetime.now()\n",
    "    return sig, bound_args, result, end - start\n",
    "\n",
    "@debug\n",
    "def add(a, b):\n",
    "    return a + b\n",
    "\n",
    "add(1,2)"
   ]
  },
  {
   "cell_type": "code",
   "execution_count": 11,
   "metadata": {
    "slideshow": {
     "slide_type": "subslide"
    }
   },
   "outputs": [
    {
     "name": "stdout",
     "output_type": "stream",
     "text": [
      ">>> add(a=1, b=2) [RESULT: 3] [DURATION: 0:00:00.000019]\n"
     ]
    }
   ],
   "source": [
    "# adding a keyword-only prefix argument\n",
    "\n",
    "def debug(fn=None, *, prefix=None):\n",
    "    if fn is None:  # debug decorator got called with the prefix kwarg\n",
    "        return functools.partial(debug, prefix=prefix)\n",
    "    \n",
    "    @functools.wraps(fn)\n",
    "    def decorator(*args, **kwargs):\n",
    "        return _run_debug(fn, args, kwargs, prefix=prefix)\n",
    "    return decorator  # debug decorator got used without parenthesis\n",
    "\n",
    "def _run_debug(fn, args, kwargs, *, prefix=None):\n",
    "    sig, bound_args, result, duration = _inspect_and_run(fn, args, kwargs)\n",
    "    ba_str = ', '.join(f'{k}={v!r}' for k, v in bound_args.arguments.items())\n",
    "    print(f'{prefix or \"\"}{fn.__name__}({ba_str}) [RESULT: {result!r}] [DURATION: {duration!s}]')\n",
    "\n",
    "@debug(prefix='>>> ')\n",
    "def add(a, b):\n",
    "    return a + b\n",
    "\n",
    "add(1, 2)"
   ]
  },
  {
   "cell_type": "code",
   "execution_count": 12,
   "metadata": {
    "slideshow": {
     "slide_type": "slide"
    }
   },
   "outputs": [
    {
     "name": "stdout",
     "output_type": "stream",
     "text": [
      "add(self=<__main__.Math object at 0x7f8f68116290>, a=1, b=2) [RESULT: 3] [DURATION: 0:00:00.000033]\n",
      "sub(self=<__main__.Math object at 0x7f8f68116290>, a=1, b=2) [RESULT: -1] [DURATION: 0:00:00.000021]\n",
      "mul(self=<__main__.Math object at 0x7f8f68116290>, a=1, b=2) [RESULT: 2] [DURATION: 0:00:00.000015]\n",
      "div(self=<__main__.Math object at 0x7f8f68116290>, a=1, b=2) [RESULT: 0.5] [DURATION: 0:00:00.000019]\n"
     ]
    }
   ],
   "source": [
    "# what about debugging an entire class?\n",
    "class Math:\n",
    "    @debug\n",
    "    def add(self, a, b): return a + b\n",
    "    @debug\n",
    "    def sub(self, a, b): return a - b\n",
    "    @debug\n",
    "    def mul(self, a, b): return a * b\n",
    "    @debug\n",
    "    def div(self, a, b): return a / b\n",
    "\n",
    "# not very DRY to decorate each method individually...\n",
    "# we could use a class decorator to wrap every public/protected method of the class\n",
    "def clsdebug(cls):\n",
    "    for attr, value in vars(cls).items():\n",
    "        if not attr.startswith('__') and isinstance(value, types.FunctionType):\n",
    "            setattr(cls, attr, debug(value))\n",
    "    return cls\n",
    "\n",
    "@clsdebug\n",
    "class Math:\n",
    "    def add(self, a, b): return a + b\n",
    "    def sub(self, a, b): return a - b\n",
    "    def mul(self, a, b): return a * b\n",
    "    def div(self, a, b): return a / b\n",
    "\n",
    "math = Math()\n",
    "math.add(1, 2); math.sub(1, 2); math.mul(1, 2); math.div(1, 2)"
   ]
  },
  {
   "cell_type": "code",
   "execution_count": 13,
   "metadata": {
    "slideshow": {
     "slide_type": "subslide"
    }
   },
   "outputs": [],
   "source": [
    "# improving the clsdebug implementation\n",
    "# update the `_run_debug` function to optionally handle `self` as the first argument\n",
    "def _run_debug(fn, args, kwargs, *, prefix=None):\n",
    "    sig, bound_args, result, duration = _inspect_and_run(fn, args, kwargs)\n",
    "    bound_args = list(bound_args.arguments.items())\n",
    "    ba_str = ', '.join(f'{k}={v!r}' for i, (k, v) in enumerate(bound_args)\n",
    "                       if not (i == 0 and k == 'self' and isinstance(v, object)))\n",
    "    fn_name = (f'{bound_args[0][1].__class__.__name__}.{fn.__name__}' \n",
    "               if bound_args and bound_args[0][0] == 'self' and isinstance(bound_args[0][1], object) else fn.__name__)\n",
    "    print(f'{prefix or \"\"}{fn_name}({ba_str}) [RESULT: {result!r}] [DURATION: {duration!s}]')\n",
    "    return result\n",
    "\n",
    "# `debug` is the same as before, just now using our newly defined `_run_debug` function\n",
    "def debug(fn=None, *, prefix=None):\n",
    "    if fn is None:  # decorator got called with the prefix kwarg\n",
    "        return functools.partial(debug, prefix=prefix)\n",
    "\n",
    "    @functools.wraps(fn)\n",
    "    def decorator(*args, **kwargs):\n",
    "        return _run_debug(fn, args, kwargs, prefix=prefix)\n",
    "    return decorator  # decorator got used without parenthesis\n",
    "\n",
    "def clsdebug(cls=None, *, prefix=None):\n",
    "    if cls is None:  # class decorator got called with the prefix kwarg\n",
    "        return functools.partial(clsdebug, prefix=prefix)\n",
    "    \n",
    "    for attr, value in vars(cls).items():\n",
    "        if not attr.startswith('__') and isinstance(value, types.FunctionType):\n",
    "            setattr(cls, attr, debug(value, prefix=prefix))\n",
    "    return cls"
   ]
  },
  {
   "cell_type": "code",
   "execution_count": 14,
   "metadata": {
    "slideshow": {
     "slide_type": "subslide"
    }
   },
   "outputs": [
    {
     "name": "stdout",
     "output_type": "stream",
     "text": [
      "*** Math.add(a=1, b=2) [RESULT: 3] [DURATION: 0:00:00.000033]\n",
      "*** Math.sub(a=1, b=2) [RESULT: -1] [DURATION: 0:00:00.000017]\n",
      "*** Math.mul(a=1, b=2) [RESULT: 2] [DURATION: 0:00:00.000014]\n",
      "*** Math.div(a=1, b=2) [RESULT: 0.5] [DURATION: 0:00:00.000018]\n"
     ]
    },
    {
     "data": {
      "text/plain": [
       "(2, 2)"
      ]
     },
     "execution_count": 14,
     "metadata": {},
     "output_type": "execute_result"
    }
   ],
   "source": [
    "# class decorators have a limitation: they don't get automatically applied to subclasses\n",
    "# (you could manually decorate each subclass, but that's not very DRY, and it's vulnerable to PEBKAC)\n",
    "\n",
    "@clsdebug(prefix='*** ')\n",
    "class Math:\n",
    "    def add(self, a, b): return a + b\n",
    "    def sub(self, a, b): return a - b\n",
    "    def mul(self, a, b): return a * b\n",
    "    def div(self, a, b): return a / b\n",
    "\n",
    "class AdvancedMath(Math):\n",
    "    def div_mod(self, numerator, denominator):\n",
    "        return numerator // denominator, numerator % denominator\n",
    "\n",
    "math = Math()\n",
    "math.add(1, 2); math.sub(1, 2); math.mul(1, 2); math.div(1, 2)\n",
    "\n",
    "advanced = AdvancedMath()\n",
    "advanced.div_mod(12, 5)"
   ]
  },
  {
   "cell_type": "code",
   "execution_count": 15,
   "metadata": {
    "slideshow": {
     "slide_type": "subslide"
    }
   },
   "outputs": [
    {
     "name": "stdout",
     "output_type": "stream",
     "text": [
      "Math.add(a=1, b=2) [RESULT: 3] [DURATION: 0:00:00.000019]\n",
      "AdvancedMath.div_mod(numerator=12, denominator=5) [RESULT: (2, 2)] [DURATION: 0:00:00.000019]\n"
     ]
    },
    {
     "data": {
      "text/plain": [
       "(2, 2)"
      ]
     },
     "execution_count": 15,
     "metadata": {},
     "output_type": "execute_result"
    }
   ],
   "source": [
    "# solution: metaclasses work with inheritance!\n",
    "\n",
    "class DebugMetaclass(type):\n",
    "    def __init__(cls, name, bases, clsdict):\n",
    "        super().__init__(name, bases, clsdict)\n",
    "        for attr, value in clsdict.items():\n",
    "            if not attr.startswith('__') and isinstance(value, types.FunctionType):\n",
    "                setattr(cls, attr, debug(value))\n",
    "\n",
    "class Math(metaclass=DebugMetaclass):\n",
    "    def add(self, a, b):\n",
    "        return a + b\n",
    "\n",
    "class AdvancedMath(Math):\n",
    "    def div_mod(self, numerator, denominator):\n",
    "        return numerator // denominator, numerator % denominator\n",
    "\n",
    "math = Math()\n",
    "math.add(1, 2)\n",
    "\n",
    "advanced = AdvancedMath()\n",
    "advanced.div_mod(12, 5)"
   ]
  },
  {
   "cell_type": "markdown",
   "metadata": {
    "slideshow": {
     "slide_type": "slide"
    }
   },
   "source": [
    "# What does Python actually do when you define a new class?\n",
    "\n",
    "### https://docs.python.org/3/reference/datamodel.html#customizing-class-creation"
   ]
  },
  {
   "cell_type": "code",
   "execution_count": 16,
   "metadata": {
    "slideshow": {
     "slide_type": "subslide"
    }
   },
   "outputs": [],
   "source": [
    "# Metaclass Terms & Definitions\n",
    "class StockMetaclass(type):\n",
    "    def __call__(mcs, name, bases, clsdict):  # order-of-operations pseudo code\n",
    "        cls = mcs.__new__(mcs, name, bases, clsdict)\n",
    "        mcs.__init__(cls, name, bases, clsdict)\n",
    "        return cls\n",
    "\n",
    "    def __new__(mcs: type,  # `mcs` is the metaclass instance (like how `self` is used for object instances)\n",
    "                name: str,  # the name of the class-under-construction\n",
    "                bases: Tuple[Type[object], ...],  # base classes of the class-under-construction (if any)\n",
    "                clsdict: Dict[str, Any]):         # the \"class namespace\" of the class-under-construction\n",
    "        return super().__new__(mcs, name, bases, clsdict)  # super().__new__() returns the constructed class\n",
    "    \n",
    "    def __init__(cls,  # `cls` here is the constructed class as returned by __new__()\n",
    "                 name, bases, clsdict): super().__init__(name, bases, clsdict)\n",
    "# Given:\n",
    "class Sweet(metaclass=StockMetaclass):\n",
    "    a = 1\n",
    "    def __init__(self, b=None):\n",
    "        self.b = None\n",
    "# Then:\n",
    "mcs: type = StockMetaclass\n",
    "name: str = 'Sweet'\n",
    "bases: Tuple[Type[object], ...] = ()  # `object` is the implicit base class\n",
    "body: str = '''  # for clsdict, this string essentially gets `exec`ed into an empty dict\n",
    "    a = 1\n",
    "    def __init__(self, b=None):\n",
    "        self.b = None\n",
    "'''                                            # below value is a function instance (not str)\n",
    "clsdict: Dict[str, Any] = {'a': 1, '__init__': \"<function Sweet.__init__ at 0x7f8d27964>\"}"
   ]
  },
  {
   "cell_type": "markdown",
   "metadata": {
    "slideshow": {
     "slide_type": "subslide"
    }
   },
   "source": [
    "## First, Python determines the correct metaclass to use\n",
    "\n",
    "If no base classes and no explicit metaclass given, use `type`:\n",
    "\n",
    "```python\n",
    "class Default: pass\n",
    "class ExplicitEquivalent(object, metaclass=type): pass\n",
    "```\n",
    "\n",
    "If an instance of `type` is given as the explicit metaclass, or bases are defined, then the most derived metaclass is used:\n",
    "\n",
    "```python\n",
    "class MyMetaclass(type): pass\n",
    "# the class MyMetaclass is itself an instance of `type`\n",
    "class Custom(metaclass=MyMetaclass): pass\n",
    "```\n",
    "The most derived metaclass is selected from the explicitly specified metaclass (if any) and the metaclasses of all base classes. The most derived metaclass is the one which is a subtype of all of the candidate metaclasses. If none of the candidate metaclasses meets that criterion, then `TypeError` is raised."
   ]
  },
  {
   "cell_type": "markdown",
   "metadata": {
    "slideshow": {
     "slide_type": "subslide"
    }
   },
   "source": [
    "# Second, Python prepares a class namespace\n",
    "\n",
    "This is a dictionary-like mapping, and `dict()` is the default unless the determined metaclass has a `__prepare__` classmethod (`type` does not):\n",
    "\n",
    "```python\n",
    "clsdict = dict() if not hasattr(TheMetaclass, '__prepare__') \\\n",
    "                 else TheMetaclass.__prepare__(name, bases, **kwargs)\n",
    "```\n",
    "\n",
    "One case this is useful for is if you need to determine the declaration order of attributes on Python 3.5 or earlier:\n",
    "\n",
    "```python\n",
    "from collections import OrderedDict\n",
    "\n",
    "class TheMetaclass(type):\n",
    "    @classmethod\n",
    "    def __prepare__(mcs, name, bases, **kwargs):\n",
    "        return OrderedDict()\n",
    "```"
   ]
  },
  {
   "cell_type": "markdown",
   "metadata": {
    "slideshow": {
     "slide_type": "subslide"
    }
   },
   "source": [
    "# Third, the body gets `exec`ed into the namespace\n",
    "\n",
    "```python\n",
    "clsdict: Dict[str, Any] = {}\n",
    "body: str = '''\n",
    "    a = 1\n",
    "    def __init__(self, b=None):\n",
    "        self.b = None\n",
    "'''\n",
    "exec(body, globals(), clsdict)\n",
    "```\n",
    "\n",
    "(more or less)\n",
    "\n",
    "The key difference from a normal call to `exec()` is that lexical scoping allows the class body (including any methods) to reference names from the current and outer scopes when the class definition occurs inside a function."
   ]
  },
  {
   "cell_type": "markdown",
   "metadata": {
    "slideshow": {
     "slide_type": "subslide"
    }
   },
   "source": [
    "# Lastly, Python calls the metaclass to create the class object\n",
    "\n",
    "```python\n",
    "Sweet = type('Sweet', (),\n",
    "             {'a': 1, '__init__': <function Sweet.__init__ at 0x7f8d27964>})\n",
    "```\n",
    "\n",
    "You can create classes this way too. Here's one maybe useful example:\n",
    "\n",
    "```python\n",
    "_default = object()\n",
    "_missing = type('_missing', (), {'__bool__': lambda self: False})()\n",
    "\n",
    "if _default:\n",
    "    print('_default is Truthy')\n",
    "if not _missing:\n",
    "    print('_missing is Falsy')\n",
    "```"
   ]
  },
  {
   "cell_type": "code",
   "execution_count": 17,
   "metadata": {
    "slideshow": {
     "slide_type": "slide"
    }
   },
   "outputs": [
    {
     "name": "stdout",
     "output_type": "stream",
     "text": [
      "==> Math.mul(a=2, b=3) [RESULT: 6] [DURATION: 0:00:00.000029]\n"
     ]
    },
    {
     "data": {
      "text/plain": [
       "6"
      ]
     },
     "execution_count": 17,
     "metadata": {},
     "output_type": "execute_result"
    }
   ],
   "source": [
    "# parameterizing DebugMetaclass with Meta options\n",
    "\n",
    "class DebugMetaclass(type):\n",
    "    def __init__(cls, name, bases, clsdict):\n",
    "        super().__init__(name, bases, clsdict)\n",
    "        Meta = getattr(cls, 'Meta', type('Meta', (), {}))\n",
    "        if not hasattr(Meta, 'debug'):\n",
    "            setattr(Meta, 'debug', True)\n",
    "        if not hasattr(Meta, 'prefix'):\n",
    "            setattr(Meta, 'prefix', 'calling: ')\n",
    "        setattr(cls, 'Meta', Meta)\n",
    "        \n",
    "        if not Meta.debug:\n",
    "            return\n",
    "        for attr, value in clsdict.items():\n",
    "            if not attr.startswith('__') and isinstance(value, types.FunctionType):\n",
    "                setattr(cls, attr, debug(value, prefix=Meta.prefix))\n",
    "    \n",
    "class Math(metaclass=DebugMetaclass):\n",
    "    class Meta:\n",
    "        debug = True\n",
    "        prefix = '==> '\n",
    "        \n",
    "    def mul(self, a, b):\n",
    "        return a * b\n",
    "\n",
    "math = Math()\n",
    "math.mul(2, 3)"
   ]
  },
  {
   "cell_type": "code",
   "execution_count": null,
   "metadata": {
    "pycharm": {
     "name": "#%%\n"
    }
   },
   "outputs": [],
   "source": []
  },
  {
   "cell_type": "markdown",
   "metadata": {
    "slideshow": {
     "slide_type": "slide"
    }
   },
   "source": [
    "# The Meta Options Factory Pattern\n",
    "\n",
    "Let's say we wanted our end users to be able to write something like this:\n",
    "\n",
    "```python\n",
    "class HTTPStatus(db.Model):\n",
    "    class Meta:\n",
    "        table = 'http_status'          # name of the table in the database\n",
    "        pk = 'id'                      # name of the primary key column (or None to disable)\n",
    "        repr = ('id', 'code', 'name')  # columns to include in __repr__()\n",
    "    \n",
    "    code = db.Column(db.Integer)\n",
    "    name = db.Column(db.String)\n",
    "```\n",
    "\n",
    "The meta options factory pattern allows us to define the logic to make this happen."
   ]
  },
  {
   "cell_type": "code",
   "execution_count": 18,
   "metadata": {
    "slideshow": {
     "slide_type": "subslide"
    }
   },
   "outputs": [],
   "source": [
    "# Useful utilities for operating on the class-under-construction\n",
    "\n",
    "class McsArgs:\n",
    "    \"\"\"Data holder for the parameters to ``type.__new__()``\"\"\"\n",
    "    def __init__(self, mcs, name, bases, clsdict):\n",
    "        self.mcs = mcs\n",
    "        self.name = name\n",
    "        self.bases = bases\n",
    "        self.clsdict = clsdict\n",
    "\n",
    "    @property\n",
    "    def is_abstract(self):\n",
    "        meta_value = getattr(self.clsdict.get('Meta'), 'abstract', False)\n",
    "        return self.clsdict.get('__abstract__', meta_value) is True\n",
    "\n",
    "    def __iter__(self):  # allow using the *args unpacking syntax\n",
    "        return iter([self.mcs, self.name, self.bases, self.clsdict])\n",
    "\n",
    "def deep_getattr(clsdict, bases, name, default=_missing):\n",
    "    \"\"\"Like getattr except it operates on the pre-construction clsdict and bases (in MRO)\"\"\"\n",
    "    value = clsdict.get(name, _missing)\n",
    "    if value != _missing:\n",
    "        return value\n",
    "    for base in bases:\n",
    "        value = getattr(base, name, _missing)\n",
    "        if value != _missing:\n",
    "            return value\n",
    "    if default != _missing:\n",
    "        return default\n",
    "    raise AttributeError(name)"
   ]
  },
  {
   "cell_type": "code",
   "execution_count": 19,
   "metadata": {
    "slideshow": {
     "slide_type": "subslide"
    }
   },
   "outputs": [],
   "source": [
    "class MetaOption:\n",
    "    \"\"\"Base class for custom Meta options.\"\"\"\n",
    "    def __init__(self, name: str, default: Any = None, inherit: bool = False):\n",
    "        self.name = name\n",
    "        self.default = default\n",
    "        self.inherit = inherit\n",
    "\n",
    "    def get_value(self, Meta: object, base_classes_meta, mcs_args: McsArgs):\n",
    "        value = self.default\n",
    "        if self.inherit and base_classes_meta is not None:\n",
    "            value = getattr(base_classes_meta, self.name, value)\n",
    "        if Meta is not None:\n",
    "            value = getattr(Meta, self.name, value)\n",
    "        return value\n",
    "\n",
    "    def check_value(self, value: Any, mcs_args: McsArgs):\n",
    "        \"\"\"Optional callback to verify the user provided a valid value.\"\"\"\n",
    "        pass\n",
    "\n",
    "    def contribute_to_class(self, mcs_args: McsArgs, value: Any):\n",
    "        \"\"\"Optional callback to modify the :class:`McsArgs` of the class-under-construction.\"\"\"\n",
    "        pass\n"
   ]
  },
  {
   "cell_type": "code",
   "execution_count": 20,
   "metadata": {
    "slideshow": {
     "slide_type": "subslide"
    }
   },
   "outputs": [],
   "source": [
    "from sqlalchemy.ext.declarative import declared_attr\n",
    "\n",
    "\n",
    "class ReprMetaOption(MetaOption):\n",
    "    def __init__(self):\n",
    "        super().__init__(name='repr', default=('id',), inherit=True)\n",
    "\n",
    "\n",
    "class TableMetaOption(MetaOption):\n",
    "    def __init__(self):\n",
    "        super().__init__(name='table', default=_missing, inherit=False)\n",
    "\n",
    "    def get_value(self, Meta, base_model_meta, mcs_args: McsArgs):\n",
    "        stock_sqla_value = mcs_args.clsdict.get('__tablename__')\n",
    "        if isinstance(stock_sqla_value, declared_attr):\n",
    "            return None  # don't overwrite @declared_attrs\n",
    "        elif stock_sqla_value:\n",
    "            return stock_sqla_value\n",
    "\n",
    "        value = super().get_value(Meta, base_model_meta, mcs_args)\n",
    "        if value or mcs_args.is_abstract:\n",
    "            return value\n",
    "        \n",
    "        # correct automatic table naming is more involved, see NameMetaMixin from Flask-SQLAlchemy\n",
    "        return snake_case(mcs_args.name)\n",
    "\n",
    "    def contribute_to_class(self, mcs_args: McsArgs, value):\n",
    "        if value:\n",
    "            mcs_args.clsdict['__tablename__'] = value\n"
   ]
  },
  {
   "cell_type": "code",
   "execution_count": 21,
   "metadata": {
    "slideshow": {
     "slide_type": "subslide"
    }
   },
   "outputs": [],
   "source": [
    "import sqlalchemy as sa\n",
    "\n",
    "\n",
    "class ColumnMetaOption(MetaOption):\n",
    "    \"\"\"Base class for column Meta options\"\"\"\n",
    "    def check_value(self, value, mcs_args: McsArgs):\n",
    "        if not (value is None or isinstance(value, str)):\n",
    "            raise TypeError(f'{self.name} Meta option on {mcs_args.name} must be a str or None')\n",
    "\n",
    "    def contribute_to_class(self, mcs_args: McsArgs, col_name):\n",
    "        if mcs_args.is_abstract:\n",
    "            return\n",
    "\n",
    "        if col_name and col_name not in mcs_args.clsdict:\n",
    "            mcs_args.clsdict[col_name] = self.get_column(mcs_args)\n",
    "\n",
    "    def get_column(self, mcs_args: McsArgs):\n",
    "        raise NotImplementedError\n",
    "\n",
    "        \n",
    "class PrimaryKeyColumnMetaOption(ColumnMetaOption):\n",
    "    def __init__(self):\n",
    "        super().__init__(name='pk', default='id', inherit=True)\n",
    "\n",
    "    def get_column(self, mcs_args: McsArgs):\n",
    "        return sa.Column(sa.Integer, primary_key=True)\n"
   ]
  },
  {
   "cell_type": "code",
   "execution_count": 22,
   "metadata": {
    "slideshow": {
     "slide_type": "subslide"
    }
   },
   "outputs": [],
   "source": [
    "class MetaOptionsFactory:\n",
    "    def _get_meta_options(self):\n",
    "        return [TableMetaOption(), PrimaryKeyColumnMetaOption(), ReprMetaOption()]\n",
    "\n",
    "    def _contribute_to_class(self, mcs_args: McsArgs):\n",
    "        Meta = mcs_args.clsdict.pop('Meta', None)\n",
    "        base_classes_meta = deep_getattr(mcs_args.clsdict, mcs_args.bases, 'Meta', None)\n",
    "        mcs_args.clsdict['Meta'] = self  # replace the user's Meta with our factory instance\n",
    "\n",
    "        self._fill_from_meta(Meta, base_classes_meta, mcs_args)\n",
    "        for option in self._get_meta_options():\n",
    "            value = option.get_value(Meta, base_classes_meta, mcs_args)\n",
    "            option.contribute_to_class(mcs_args, value)\n",
    "\n",
    "    def _fill_from_meta(self, Meta: object, base_classes_meta, mcs_args: McsArgs):\n",
    "        # Exclude private/protected fields from the Meta\n",
    "        meta_attrs = {} if not Meta else {k: v for k, v in vars(Meta).items()\n",
    "                                          if not k.startswith('_')}\n",
    "\n",
    "        for option in self._get_meta_options():\n",
    "            value = option.get_value(Meta, base_classes_meta, mcs_args)\n",
    "            option.check_value(value, mcs_args)\n",
    "            setattr(self, option.name, value)  # set all Meta option names/values on ourself\n",
    "            meta_attrs.pop(option.name, None)\n",
    "\n",
    "        # Only allow public attributes on the Meta that have a respective MetaOption\n",
    "        if meta_attrs:\n",
    "            unknowns = ', '.join(sorted(meta_attrs.keys()))\n",
    "            raise TypeError(f'class Meta for {mcs_args.name} got unknown attribute(s) {unknowns}')\n"
   ]
  },
  {
   "cell_type": "code",
   "execution_count": 23,
   "metadata": {
    "slideshow": {
     "slide_type": "subslide"
    }
   },
   "outputs": [],
   "source": [
    "from sqlalchemy.ext.declarative import DeclarativeMeta, declarative_base as _declarative_base\n",
    "\n",
    "\n",
    "class BaseModel:\n",
    "    def __repr__(self):\n",
    "        attrs = ', '.join([f'{attr}={getattr(self, attr)!r}'\n",
    "                           for attr in self.Meta.repr if hasattr(self, attr)])\n",
    "        return f'{self.__class__.__name__}({attrs})'\n",
    "\n",
    "\n",
    "class ModelMetaclass(DeclarativeMeta):\n",
    "    def __new__(mcs, name, bases, clsdict):\n",
    "        mcs_args = McsArgs(mcs, name, bases, clsdict)\n",
    "        factory_cls = deep_getattr(\n",
    "            clsdict, bases, '_meta_options_factory_class', MetaOptionsFactory)\n",
    "        options_factory = factory_cls()\n",
    "        options_factory._contribute_to_class(mcs_args)\n",
    "        return super().__new__(*mcs_args)\n",
    "\n",
    "\n",
    "# specifically for SQLAlchemy the following is not enough, but\n",
    "# normally just declaring the metaclass with the factory to use like this is sufficient:\n",
    "class Model(metaclass=ModelMetaclass):\n",
    "    __abstract__ = True  # this is also just so SQLAlchemy's DeclarativeMeta doesn't raise"
   ]
  },
  {
   "cell_type": "code",
   "execution_count": 24,
   "metadata": {
    "slideshow": {
     "slide_type": "slide"
    }
   },
   "outputs": [],
   "source": [
    "from sqlalchemy import create_engine\n",
    "from sqlalchemy.orm import sessionmaker\n",
    "from sqlalchemy.ext.declarative import declarative_base as _declarative_base\n",
    "\n",
    "\n",
    "def declarative_base(name='Model', model=BaseModel, metaclass=ModelMetaclass, **kwargs):\n",
    "    def make_model_metaclass(name, bases, clsdict):\n",
    "        clsdict['__abstract__'] = True\n",
    "        clsdict['__module__'] = model.__module__\n",
    "        if hasattr(model, 'Meta'):\n",
    "            clsdict['Meta'] = model.Meta\n",
    "        if hasattr(model, '_meta_options_factory_class'):\n",
    "            clsdict['_meta_options_factory_class'] = model._meta_options_factory_class\n",
    "        return metaclass(name, bases, clsdict)\n",
    "\n",
    "    return _declarative_base(name=name, cls=model, metaclass=make_model_metaclass, **kwargs)"
   ]
  },
  {
   "cell_type": "code",
   "execution_count": 25,
   "metadata": {
    "slideshow": {
     "slide_type": "slide"
    }
   },
   "outputs": [
    {
     "name": "stdout",
     "output_type": "stream",
     "text": [
      "Defaults has a primary key: True\n",
      "Defaults has a table name: 'defaults'\n",
      "Defaults has a __repr__(): Defaults(id=1)\n",
      "Spam has a primary key: True\n",
      "Spam has a table name: 'ham'\n",
      "Spam has a __repr__(): Spam(pk=1, eggs='green')\n"
     ]
    }
   ],
   "source": [
    "engine = create_engine('sqlite:///:memory:')\n",
    "session = sessionmaker(bind=engine)()\n",
    "Model = declarative_base(bind=engine)\n",
    "\n",
    "class Defaults(Model):\n",
    "    pass\n",
    "\n",
    "class Spam(Model):\n",
    "    class Meta:\n",
    "        table = 'ham'\n",
    "        pk = 'pk'\n",
    "        repr = ('pk', 'eggs')\n",
    "    eggs = sa.Column(sa.String)\n",
    "\n",
    "defaults = Defaults()\n",
    "spam = Spam(eggs='green')\n",
    "Model.metadata.create_all(); session.add_all([defaults, spam]); session.commit()\n",
    "\n",
    "print(f'Defaults has a primary key: {hasattr(defaults, \"id\") and defaults.__mapper__.columns[\"id\"].primary_key}')\n",
    "print(f'Defaults has a table name: {defaults.__tablename__!r}')\n",
    "print(f'Defaults has a __repr__(): {defaults!r}')\n",
    "print(f'Spam has a primary key: {hasattr(spam, \"pk\") and spam.__mapper__.columns[\"pk\"].primary_key}')\n",
    "print(f'Spam has a table name: {spam.__tablename__!r}')\n",
    "print(f'Spam has a __repr__(): {spam!r}')"
   ]
  },
  {
   "cell_type": "markdown",
   "metadata": {
    "slideshow": {
     "slide_type": "slide"
    }
   },
   "source": [
    "# Further Reading & Links (Questions or Comments?)\n",
    "\n",
    "**This Presentation** (Jupyter Notebook, requires Python 3.6+ and SQLAlchemy)\n",
    "\n",
    "    https://github.com/briancappello/python-metaprogramming/blob/master/Python 3 Metaprogramming.ipynb\n",
    "\n",
    "**Official Python Documentation on metaclasses**\n",
    "\n",
    "    https://docs.python.org/3/reference/datamodel.html#customizing-class-creation\n",
    "\n",
    "**The Factory Meta Options Pattern as a library**\n",
    "\n",
    "    https://github.com/briancappello/py-meta-utils\n",
    "\n",
    "**See also: The Descriptor Protocol** (aka \"owning the dot\")\n",
    "\n",
    "    https://docs.python.org/3/reference/datamodel.html#descriptors\n",
    "    https://docs.python.org/3/howto/descriptor.html"
   ]
  },
  {
   "cell_type": "code",
   "execution_count": null,
   "metadata": {},
   "outputs": [],
   "source": []
  }
 ],
 "metadata": {
  "celltoolbar": "Slideshow",
  "kernelspec": {
   "display_name": "Python 3",
   "language": "python",
   "name": "python3"
  },
  "language_info": {
   "codemirror_mode": {
    "name": "ipython",
    "version": 3
   },
   "file_extension": ".py",
   "mimetype": "text/x-python",
   "name": "python",
   "nbconvert_exporter": "python",
   "pygments_lexer": "ipython3",
   "version": "3.7.4"
  },
  "pycharm": {
   "stem_cell": {
    "cell_type": "raw",
    "metadata": {
     "collapsed": false
    },
    "source": []
   }
  }
 },
 "nbformat": 4,
 "nbformat_minor": 2
}
